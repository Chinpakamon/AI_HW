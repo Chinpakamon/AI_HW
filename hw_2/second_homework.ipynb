{
 "cells": [
  {
   "cell_type": "markdown",
   "metadata": {},
   "source": [
    "### Домашенее задание №1 по предмету \"Прикладное машинное обучение\""
   ]
  },
  {
   "cell_type": "code",
   "execution_count": null,
   "metadata": {},
   "outputs": [],
   "source": [
    "# Установим такие библиотеки как numpy, pandas, seaborn, matplotlib\n",
    "%pip install numpy && pip install pandas && pip install seaborn && pip install matplotlib && pip install -U scikit-learn"
   ]
  },
  {
   "cell_type": "code",
   "execution_count": 5,
   "metadata": {},
   "outputs": [],
   "source": [
    "# Импортируем установленные ранее библиотеки\n",
    "import numpy as np\n",
    "import pandas as pd\n",
    "import matplotlib.pyplot as plt\n",
    "import seaborn as sns"
   ]
  },
  {
   "cell_type": "markdown",
   "metadata": {},
   "source": [
    "### Бизнес постановка задачи:"
   ]
  },
  {
   "cell_type": "markdown",
   "metadata": {},
   "source": [
    "Компания заказчик, продающая товары в области здравохранения и спорта требует проверить сколько людей страдают ожирением, на какие группы они деляться, а так же что их объединяет, какая между ними корелляция, чтобы понять, среди каких слоев населения товар будет более востребован, а так же чтобы выстроить качественную рекламную компанию на основе этих данных."
   ]
  },
  {
   "cell_type": "markdown",
   "metadata": {},
   "source": [
    "### Постановка ML задачи"
   ]
  },
  {
   "cell_type": "markdown",
   "metadata": {},
   "source": [
    "На основе данных о людях с ожирением построить модель, которая определит, к какой группе относится больше всего людей с лишним весом. для более эффективной рекламной компании. Бинарная классификация."
   ]
  },
  {
   "cell_type": "markdown",
   "metadata": {},
   "source": [
    "### Выбор метрики"
   ]
  },
  {
   "cell_type": "markdown",
   "metadata": {},
   "source": [
    "Метрика AUC-ROC имеет несколько преимуществ, которые делают ее хорошим инструментом для оценки производительности моделей бинарной классификации:\n",
    "\n",
    "1. Учитывает полноту и специфичность: Кривая ROC обобщает производительность модели с учетом как ее способности правильно идентифицировать положительные классы (полноты), так и способности правильно идентифицировать отрицательные классы (специфичности). Это позволяет оценить общую способность модели сбалансированно работать как с одним классом, так и с другим.\n",
    "\n",
    "2. Не чувствительна к несбалансированным данным: AUC-ROC метрика надежно работает с несбалансированными данными, что делает ее важной в реальных задачах, где классы могут быть неодинаково представлены в данных.\n",
    "\n",
    "3. Подходит для оценки и сравнения моделей: AUC-ROC позволяет сравнивать производительность различных моделей бинарной классификации на одних и тех же данных, что помогает выбрать лучшую модель для конкретной задачи.\n",
    "\n",
    "4. Независима от порога классификации: AUC-ROC не зависит от выбора конкретного порога для разделения положительных и отрицательных классов, в отличие от других метрик (например, точность, F-мера и др.), что делает ее более устойчивой к несбалансированным классам."
   ]
  },
  {
   "cell_type": "markdown",
   "metadata": {},
   "source": [
    "### EDA"
   ]
  },
  {
   "cell_type": "markdown",
   "metadata": {},
   "source": [
    "Рассмотрим приведенные данные:"
   ]
  },
  {
   "cell_type": "markdown",
   "metadata": {},
   "source": [
    "Данные содержат.\n",
    "\n",
    "Пол равен 1, если респондент мужчина, и 0, если респондент женщина.\n",
    "\n",
    "Возраст – возраст респондента в годах.\n",
    "\n",
    "Family_history_with_overweight имеет значение 1, если у респондента есть член семьи, который имеет или имел избыточный вес, и 0, если нет.\n",
    "\n",
    "FAVC равен 1, если респондент часто ест высококалорийную пищу, и 0, если нет.\n",
    "\n",
    "FCVC равен 1, если респондент обычно употребляет в пищу овощи, и 0, если нет.\n",
    "\n",
    "NCP показывает, сколько основных приемов пищи респондент принимает в день (0 для 1-2-разового питания, 1 для 3-разового питания и 2 для более чем 3-разового питания).\n",
    "\n",
    "CAEC показывает, сколько еды респондент съедает между приемами пищи, по шкале от 0 до 3.\n",
    "\n",
    "SMOKE равен 1, если респондент курит, и 0, если нет.\n",
    "\n",
    "CH2O показывает, сколько воды выпивает респондент, по шкале от 0 до 2.\n",
    "\n",
    "SCC равен 1, если респондент следит за потреблением калорий, и 0, если нет.\n",
    "\n",
    "FAF показывает, какую физическую активность выполняет респондент по шкале от 0 до 3.\n",
    "\n",
    "TUE показывает, сколько времени респондент проводит, глядя на устройства с экранами, по шкале от 0 до 2.\n",
    "\n",
    "CALC показывает, как часто респондент употребляет алкоголь по шкале от 0 до 3.\n",
    "\n",
    "«Автомобиль», «Велосипед», «Мотоцикл», «Общественный_транспорт» и «Ходьба» указывают на основной вид транспорта респондента. Их основной вид транспорта обозначен цифрой 1, а остальные столбцы будут содержать 0.\n",
    "\n",
    "NObeyesdad равен 1, если пациент страдает ожирением, и 0, если нет."
   ]
  },
  {
   "cell_type": "code",
   "execution_count": 6,
   "metadata": {},
   "outputs": [
    {
     "data": {
      "text/html": [
       "<div>\n",
       "<style scoped>\n",
       "    .dataframe tbody tr th:only-of-type {\n",
       "        vertical-align: middle;\n",
       "    }\n",
       "\n",
       "    .dataframe tbody tr th {\n",
       "        vertical-align: top;\n",
       "    }\n",
       "\n",
       "    .dataframe thead th {\n",
       "        text-align: right;\n",
       "    }\n",
       "</style>\n",
       "<table border=\"1\" class=\"dataframe\">\n",
       "  <thead>\n",
       "    <tr style=\"text-align: right;\">\n",
       "      <th></th>\n",
       "      <th>Gender</th>\n",
       "      <th>Age</th>\n",
       "      <th>family_history_with_overweight</th>\n",
       "      <th>FAVC</th>\n",
       "      <th>FCVC</th>\n",
       "      <th>NCP</th>\n",
       "      <th>CAEC</th>\n",
       "      <th>SMOKE</th>\n",
       "      <th>CH2O</th>\n",
       "      <th>SCC</th>\n",
       "      <th>FAF</th>\n",
       "      <th>TUE</th>\n",
       "      <th>CALC</th>\n",
       "      <th>Automobile</th>\n",
       "      <th>Bike</th>\n",
       "      <th>Motorbike</th>\n",
       "      <th>Public_Transportation</th>\n",
       "      <th>Walking</th>\n",
       "      <th>NObeyesdad</th>\n",
       "    </tr>\n",
       "  </thead>\n",
       "  <tbody>\n",
       "    <tr>\n",
       "      <th>0</th>\n",
       "      <td>0</td>\n",
       "      <td>21.0</td>\n",
       "      <td>1</td>\n",
       "      <td>0</td>\n",
       "      <td>2.0</td>\n",
       "      <td>3.0</td>\n",
       "      <td>1</td>\n",
       "      <td>0</td>\n",
       "      <td>2.0</td>\n",
       "      <td>0</td>\n",
       "      <td>0.0</td>\n",
       "      <td>1.0</td>\n",
       "      <td>0</td>\n",
       "      <td>0</td>\n",
       "      <td>0</td>\n",
       "      <td>0</td>\n",
       "      <td>1</td>\n",
       "      <td>0</td>\n",
       "      <td>0</td>\n",
       "    </tr>\n",
       "    <tr>\n",
       "      <th>1</th>\n",
       "      <td>0</td>\n",
       "      <td>21.0</td>\n",
       "      <td>1</td>\n",
       "      <td>0</td>\n",
       "      <td>3.0</td>\n",
       "      <td>3.0</td>\n",
       "      <td>1</td>\n",
       "      <td>1</td>\n",
       "      <td>3.0</td>\n",
       "      <td>1</td>\n",
       "      <td>3.0</td>\n",
       "      <td>0.0</td>\n",
       "      <td>1</td>\n",
       "      <td>0</td>\n",
       "      <td>0</td>\n",
       "      <td>0</td>\n",
       "      <td>1</td>\n",
       "      <td>0</td>\n",
       "      <td>0</td>\n",
       "    </tr>\n",
       "    <tr>\n",
       "      <th>2</th>\n",
       "      <td>1</td>\n",
       "      <td>23.0</td>\n",
       "      <td>1</td>\n",
       "      <td>0</td>\n",
       "      <td>2.0</td>\n",
       "      <td>3.0</td>\n",
       "      <td>1</td>\n",
       "      <td>0</td>\n",
       "      <td>2.0</td>\n",
       "      <td>0</td>\n",
       "      <td>2.0</td>\n",
       "      <td>1.0</td>\n",
       "      <td>2</td>\n",
       "      <td>0</td>\n",
       "      <td>0</td>\n",
       "      <td>0</td>\n",
       "      <td>1</td>\n",
       "      <td>0</td>\n",
       "      <td>0</td>\n",
       "    </tr>\n",
       "    <tr>\n",
       "      <th>3</th>\n",
       "      <td>1</td>\n",
       "      <td>27.0</td>\n",
       "      <td>0</td>\n",
       "      <td>0</td>\n",
       "      <td>3.0</td>\n",
       "      <td>3.0</td>\n",
       "      <td>1</td>\n",
       "      <td>0</td>\n",
       "      <td>2.0</td>\n",
       "      <td>0</td>\n",
       "      <td>2.0</td>\n",
       "      <td>0.0</td>\n",
       "      <td>2</td>\n",
       "      <td>0</td>\n",
       "      <td>0</td>\n",
       "      <td>0</td>\n",
       "      <td>0</td>\n",
       "      <td>1</td>\n",
       "      <td>0</td>\n",
       "    </tr>\n",
       "    <tr>\n",
       "      <th>4</th>\n",
       "      <td>1</td>\n",
       "      <td>22.0</td>\n",
       "      <td>0</td>\n",
       "      <td>0</td>\n",
       "      <td>2.0</td>\n",
       "      <td>1.0</td>\n",
       "      <td>1</td>\n",
       "      <td>0</td>\n",
       "      <td>2.0</td>\n",
       "      <td>0</td>\n",
       "      <td>0.0</td>\n",
       "      <td>0.0</td>\n",
       "      <td>1</td>\n",
       "      <td>0</td>\n",
       "      <td>0</td>\n",
       "      <td>0</td>\n",
       "      <td>1</td>\n",
       "      <td>0</td>\n",
       "      <td>0</td>\n",
       "    </tr>\n",
       "    <tr>\n",
       "      <th>5</th>\n",
       "      <td>1</td>\n",
       "      <td>29.0</td>\n",
       "      <td>0</td>\n",
       "      <td>1</td>\n",
       "      <td>2.0</td>\n",
       "      <td>3.0</td>\n",
       "      <td>1</td>\n",
       "      <td>0</td>\n",
       "      <td>2.0</td>\n",
       "      <td>0</td>\n",
       "      <td>0.0</td>\n",
       "      <td>0.0</td>\n",
       "      <td>1</td>\n",
       "      <td>1</td>\n",
       "      <td>0</td>\n",
       "      <td>0</td>\n",
       "      <td>0</td>\n",
       "      <td>0</td>\n",
       "      <td>0</td>\n",
       "    </tr>\n",
       "    <tr>\n",
       "      <th>6</th>\n",
       "      <td>0</td>\n",
       "      <td>23.0</td>\n",
       "      <td>1</td>\n",
       "      <td>1</td>\n",
       "      <td>3.0</td>\n",
       "      <td>3.0</td>\n",
       "      <td>1</td>\n",
       "      <td>0</td>\n",
       "      <td>2.0</td>\n",
       "      <td>0</td>\n",
       "      <td>1.0</td>\n",
       "      <td>0.0</td>\n",
       "      <td>1</td>\n",
       "      <td>0</td>\n",
       "      <td>0</td>\n",
       "      <td>1</td>\n",
       "      <td>0</td>\n",
       "      <td>0</td>\n",
       "      <td>0</td>\n",
       "    </tr>\n",
       "    <tr>\n",
       "      <th>7</th>\n",
       "      <td>1</td>\n",
       "      <td>22.0</td>\n",
       "      <td>0</td>\n",
       "      <td>0</td>\n",
       "      <td>2.0</td>\n",
       "      <td>3.0</td>\n",
       "      <td>1</td>\n",
       "      <td>0</td>\n",
       "      <td>2.0</td>\n",
       "      <td>0</td>\n",
       "      <td>3.0</td>\n",
       "      <td>0.0</td>\n",
       "      <td>1</td>\n",
       "      <td>0</td>\n",
       "      <td>0</td>\n",
       "      <td>0</td>\n",
       "      <td>1</td>\n",
       "      <td>0</td>\n",
       "      <td>0</td>\n",
       "    </tr>\n",
       "    <tr>\n",
       "      <th>8</th>\n",
       "      <td>1</td>\n",
       "      <td>24.0</td>\n",
       "      <td>1</td>\n",
       "      <td>1</td>\n",
       "      <td>3.0</td>\n",
       "      <td>3.0</td>\n",
       "      <td>1</td>\n",
       "      <td>0</td>\n",
       "      <td>2.0</td>\n",
       "      <td>0</td>\n",
       "      <td>1.0</td>\n",
       "      <td>1.0</td>\n",
       "      <td>2</td>\n",
       "      <td>0</td>\n",
       "      <td>0</td>\n",
       "      <td>0</td>\n",
       "      <td>1</td>\n",
       "      <td>0</td>\n",
       "      <td>0</td>\n",
       "    </tr>\n",
       "    <tr>\n",
       "      <th>9</th>\n",
       "      <td>1</td>\n",
       "      <td>22.0</td>\n",
       "      <td>1</td>\n",
       "      <td>1</td>\n",
       "      <td>2.0</td>\n",
       "      <td>3.0</td>\n",
       "      <td>1</td>\n",
       "      <td>0</td>\n",
       "      <td>2.0</td>\n",
       "      <td>0</td>\n",
       "      <td>1.0</td>\n",
       "      <td>1.0</td>\n",
       "      <td>0</td>\n",
       "      <td>0</td>\n",
       "      <td>0</td>\n",
       "      <td>0</td>\n",
       "      <td>1</td>\n",
       "      <td>0</td>\n",
       "      <td>0</td>\n",
       "    </tr>\n",
       "    <tr>\n",
       "      <th>10</th>\n",
       "      <td>1</td>\n",
       "      <td>26.0</td>\n",
       "      <td>1</td>\n",
       "      <td>1</td>\n",
       "      <td>3.0</td>\n",
       "      <td>3.0</td>\n",
       "      <td>2</td>\n",
       "      <td>0</td>\n",
       "      <td>3.0</td>\n",
       "      <td>0</td>\n",
       "      <td>2.0</td>\n",
       "      <td>2.0</td>\n",
       "      <td>1</td>\n",
       "      <td>0</td>\n",
       "      <td>0</td>\n",
       "      <td>0</td>\n",
       "      <td>1</td>\n",
       "      <td>0</td>\n",
       "      <td>1</td>\n",
       "    </tr>\n",
       "    <tr>\n",
       "      <th>11</th>\n",
       "      <td>0</td>\n",
       "      <td>21.0</td>\n",
       "      <td>1</td>\n",
       "      <td>1</td>\n",
       "      <td>2.0</td>\n",
       "      <td>3.0</td>\n",
       "      <td>2</td>\n",
       "      <td>0</td>\n",
       "      <td>2.0</td>\n",
       "      <td>1</td>\n",
       "      <td>2.0</td>\n",
       "      <td>1.0</td>\n",
       "      <td>1</td>\n",
       "      <td>0</td>\n",
       "      <td>0</td>\n",
       "      <td>0</td>\n",
       "      <td>1</td>\n",
       "      <td>0</td>\n",
       "      <td>0</td>\n",
       "    </tr>\n",
       "    <tr>\n",
       "      <th>12</th>\n",
       "      <td>1</td>\n",
       "      <td>22.0</td>\n",
       "      <td>0</td>\n",
       "      <td>0</td>\n",
       "      <td>3.0</td>\n",
       "      <td>3.0</td>\n",
       "      <td>1</td>\n",
       "      <td>0</td>\n",
       "      <td>3.0</td>\n",
       "      <td>0</td>\n",
       "      <td>2.0</td>\n",
       "      <td>0.0</td>\n",
       "      <td>1</td>\n",
       "      <td>0</td>\n",
       "      <td>0</td>\n",
       "      <td>0</td>\n",
       "      <td>1</td>\n",
       "      <td>0</td>\n",
       "      <td>0</td>\n",
       "    </tr>\n",
       "    <tr>\n",
       "      <th>13</th>\n",
       "      <td>1</td>\n",
       "      <td>41.0</td>\n",
       "      <td>0</td>\n",
       "      <td>1</td>\n",
       "      <td>2.0</td>\n",
       "      <td>3.0</td>\n",
       "      <td>1</td>\n",
       "      <td>0</td>\n",
       "      <td>2.0</td>\n",
       "      <td>0</td>\n",
       "      <td>2.0</td>\n",
       "      <td>1.0</td>\n",
       "      <td>2</td>\n",
       "      <td>1</td>\n",
       "      <td>0</td>\n",
       "      <td>0</td>\n",
       "      <td>0</td>\n",
       "      <td>0</td>\n",
       "      <td>1</td>\n",
       "    </tr>\n",
       "    <tr>\n",
       "      <th>14</th>\n",
       "      <td>1</td>\n",
       "      <td>23.0</td>\n",
       "      <td>1</td>\n",
       "      <td>1</td>\n",
       "      <td>3.0</td>\n",
       "      <td>1.0</td>\n",
       "      <td>1</td>\n",
       "      <td>0</td>\n",
       "      <td>1.0</td>\n",
       "      <td>0</td>\n",
       "      <td>1.0</td>\n",
       "      <td>1.0</td>\n",
       "      <td>1</td>\n",
       "      <td>0</td>\n",
       "      <td>0</td>\n",
       "      <td>0</td>\n",
       "      <td>1</td>\n",
       "      <td>0</td>\n",
       "      <td>0</td>\n",
       "    </tr>\n",
       "  </tbody>\n",
       "</table>\n",
       "</div>"
      ],
      "text/plain": [
       "    Gender   Age  family_history_with_overweight  FAVC  FCVC  NCP  CAEC  \\\n",
       "0        0  21.0                               1     0   2.0  3.0     1   \n",
       "1        0  21.0                               1     0   3.0  3.0     1   \n",
       "2        1  23.0                               1     0   2.0  3.0     1   \n",
       "3        1  27.0                               0     0   3.0  3.0     1   \n",
       "4        1  22.0                               0     0   2.0  1.0     1   \n",
       "5        1  29.0                               0     1   2.0  3.0     1   \n",
       "6        0  23.0                               1     1   3.0  3.0     1   \n",
       "7        1  22.0                               0     0   2.0  3.0     1   \n",
       "8        1  24.0                               1     1   3.0  3.0     1   \n",
       "9        1  22.0                               1     1   2.0  3.0     1   \n",
       "10       1  26.0                               1     1   3.0  3.0     2   \n",
       "11       0  21.0                               1     1   2.0  3.0     2   \n",
       "12       1  22.0                               0     0   3.0  3.0     1   \n",
       "13       1  41.0                               0     1   2.0  3.0     1   \n",
       "14       1  23.0                               1     1   3.0  1.0     1   \n",
       "\n",
       "    SMOKE  CH2O  SCC  FAF  TUE  CALC  Automobile  Bike  Motorbike  \\\n",
       "0       0   2.0    0  0.0  1.0     0           0     0          0   \n",
       "1       1   3.0    1  3.0  0.0     1           0     0          0   \n",
       "2       0   2.0    0  2.0  1.0     2           0     0          0   \n",
       "3       0   2.0    0  2.0  0.0     2           0     0          0   \n",
       "4       0   2.0    0  0.0  0.0     1           0     0          0   \n",
       "5       0   2.0    0  0.0  0.0     1           1     0          0   \n",
       "6       0   2.0    0  1.0  0.0     1           0     0          1   \n",
       "7       0   2.0    0  3.0  0.0     1           0     0          0   \n",
       "8       0   2.0    0  1.0  1.0     2           0     0          0   \n",
       "9       0   2.0    0  1.0  1.0     0           0     0          0   \n",
       "10      0   3.0    0  2.0  2.0     1           0     0          0   \n",
       "11      0   2.0    1  2.0  1.0     1           0     0          0   \n",
       "12      0   3.0    0  2.0  0.0     1           0     0          0   \n",
       "13      0   2.0    0  2.0  1.0     2           1     0          0   \n",
       "14      0   1.0    0  1.0  1.0     1           0     0          0   \n",
       "\n",
       "    Public_Transportation  Walking  NObeyesdad  \n",
       "0                       1        0           0  \n",
       "1                       1        0           0  \n",
       "2                       1        0           0  \n",
       "3                       0        1           0  \n",
       "4                       1        0           0  \n",
       "5                       0        0           0  \n",
       "6                       0        0           0  \n",
       "7                       1        0           0  \n",
       "8                       1        0           0  \n",
       "9                       1        0           0  \n",
       "10                      1        0           1  \n",
       "11                      1        0           0  \n",
       "12                      1        0           0  \n",
       "13                      0        0           1  \n",
       "14                      1        0           0  "
      ]
     },
     "execution_count": 6,
     "metadata": {},
     "output_type": "execute_result"
    }
   ],
   "source": [
    "df = pd.read_csv('obesity.csv')\n",
    "df.head(15)"
   ]
  },
  {
   "cell_type": "code",
   "execution_count": 7,
   "metadata": {},
   "outputs": [
    {
     "name": "stdout",
     "output_type": "stream",
     "text": [
      "Размер выобрки: 2111\n"
     ]
    }
   ],
   "source": [
    "print(\"Размер выобрки: \" + str(df.shape[0]))"
   ]
  },
  {
   "cell_type": "code",
   "execution_count": 8,
   "metadata": {},
   "outputs": [
    {
     "name": "stdout",
     "output_type": "stream",
     "text": [
      "<class 'pandas.core.frame.DataFrame'>\n",
      "RangeIndex: 2111 entries, 0 to 2110\n",
      "Data columns (total 19 columns):\n",
      " #   Column                          Non-Null Count  Dtype  \n",
      "---  ------                          --------------  -----  \n",
      " 0   Gender                          2111 non-null   int64  \n",
      " 1   Age                             2111 non-null   float64\n",
      " 2   family_history_with_overweight  2111 non-null   int64  \n",
      " 3   FAVC                            2111 non-null   int64  \n",
      " 4   FCVC                            2111 non-null   float64\n",
      " 5   NCP                             2111 non-null   float64\n",
      " 6   CAEC                            2111 non-null   int64  \n",
      " 7   SMOKE                           2111 non-null   int64  \n",
      " 8   CH2O                            2111 non-null   float64\n",
      " 9   SCC                             2111 non-null   int64  \n",
      " 10  FAF                             2111 non-null   float64\n",
      " 11  TUE                             2111 non-null   float64\n",
      " 12  CALC                            2111 non-null   int64  \n",
      " 13  Automobile                      2111 non-null   int64  \n",
      " 14  Bike                            2111 non-null   int64  \n",
      " 15  Motorbike                       2111 non-null   int64  \n",
      " 16  Public_Transportation           2111 non-null   int64  \n",
      " 17  Walking                         2111 non-null   int64  \n",
      " 18  NObeyesdad                      2111 non-null   int64  \n",
      "dtypes: float64(6), int64(13)\n",
      "memory usage: 313.5 KB\n"
     ]
    }
   ],
   "source": [
    "df.info()"
   ]
  },
  {
   "cell_type": "code",
   "execution_count": 9,
   "metadata": {},
   "outputs": [],
   "source": [
    "df.rename(columns = {\"NObeyesdad\": \"Obese\"}, inplace =True)"
   ]
  },
  {
   "cell_type": "code",
   "execution_count": 10,
   "metadata": {},
   "outputs": [
    {
     "name": "stdout",
     "output_type": "stream",
     "text": [
      "Rows   : 2111\n",
      "Columns: 19\n"
     ]
    }
   ],
   "source": [
    "# Проверим число строк и столбцов в нашей выборке\n",
    "rows = df.shape[0] \n",
    "cols = df.shape[1] \n",
    "print(\"Rows   : \" + str(rows)) \n",
    "print(\"Columns: \" + str(cols))"
   ]
  },
  {
   "cell_type": "code",
   "execution_count": 11,
   "metadata": {},
   "outputs": [
    {
     "name": "stdout",
     "output_type": "stream",
     "text": [
      "Number of duplicates: 29\n"
     ]
    }
   ],
   "source": [
    "# Проверим дублируемость данных\n",
    "print(\"Number of duplicates: \" + str(df.duplicated().sum()))"
   ]
  },
  {
   "cell_type": "code",
   "execution_count": 12,
   "metadata": {},
   "outputs": [
    {
     "name": "stdout",
     "output_type": "stream",
     "text": [
      "Number of duplicates: 0\n"
     ]
    }
   ],
   "source": [
    "# Удалим дублируещиеся данные и проверим на дублирование еще раз\n",
    "df.drop_duplicates(keep=False,inplace=True)\n",
    "print(\"Number of duplicates: \" + str(df.duplicated().sum()))"
   ]
  },
  {
   "cell_type": "code",
   "execution_count": 13,
   "metadata": {},
   "outputs": [
    {
     "data": {
      "text/plain": [
       "Gender                               2\n",
       "Age                               1402\n",
       "family_history_with_overweight       2\n",
       "FAVC                                 2\n",
       "FCVC                               810\n",
       "NCP                                635\n",
       "CAEC                                 4\n",
       "SMOKE                                2\n",
       "CH2O                              1268\n",
       "SCC                                  2\n",
       "FAF                               1190\n",
       "TUE                               1129\n",
       "CALC                                 4\n",
       "Automobile                           2\n",
       "Bike                                 2\n",
       "Motorbike                            2\n",
       "Public_Transportation                2\n",
       "Walking                              2\n",
       "Obese                                2\n",
       "dtype: int64"
      ]
     },
     "execution_count": 13,
     "metadata": {},
     "output_type": "execute_result"
    }
   ],
   "source": [
    "# Число уникальных значений в колонках\n",
    "df.nunique()"
   ]
  },
  {
   "cell_type": "code",
   "execution_count": 14,
   "metadata": {},
   "outputs": [
    {
     "data": {
      "text/plain": [
       "Obese\n",
       "0    1096\n",
       "1     972\n",
       "Name: count, dtype: int64"
      ]
     },
     "execution_count": 14,
     "metadata": {},
     "output_type": "execute_result"
    }
   ],
   "source": [
    "# Проверим уникальные значения и частоту запроса NObeyesdad.\n",
    "df['Obese'].value_counts()"
   ]
  },
  {
   "cell_type": "markdown",
   "metadata": {},
   "source": [
    "#### Визуализация данных"
   ]
  },
  {
   "cell_type": "code",
   "execution_count": 15,
   "metadata": {},
   "outputs": [
    {
     "name": "stderr",
     "output_type": "stream",
     "text": [
      "/tmp/ipykernel_10444/1395531739.py:2: FutureWarning: \n",
      "\n",
      "Passing `palette` without assigning `hue` is deprecated and will be removed in v0.14.0. Assign the `x` variable to `hue` and set `legend=False` for the same effect.\n",
      "\n",
      "  sns.countplot(x=df[\"Obese\"], palette=\"magma\")\n"
     ]
    },
    {
     "data": {
      "image/png": "[encoded data removed]",
      "text/plain": [
       "<Figure size 800x400 with 1 Axes>"
      ]
     },
     "metadata": {},
     "output_type": "display_data"
    }
   ],
   "source": [
    "fig, ax = plt.subplots(figsize=(8, 4))\n",
    "sns.countplot(x=df[\"Obese\"], palette=\"magma\")\n",
    "plt.show()"
   ]
  },
  {
   "cell_type": "code",
   "execution_count": 16,
   "metadata": {},
   "outputs": [
    {
     "name": "stderr",
     "output_type": "stream",
     "text": [
      "/tmp/ipykernel_10444/592714291.py:4: FutureWarning: \n",
      "\n",
      "Passing `palette` without assigning `hue` is deprecated and will be removed in v0.14.0. Assign the `x` variable to `hue` and set `legend=False` for the same effect.\n",
      "\n",
      "  sns.countplot(x=df[\"Gender\"], palette=\"tab10\")\n"
     ]
    },
    {
     "data": {
      "image/png": "[encoded data removed]",
      "text/plain": [
       "<Figure size 800x400 with 1 Axes>"
      ]
     },
     "metadata": {},
     "output_type": "display_data"
    }
   ],
   "source": [
    "# Пол\n",
    "\n",
    "fig, ax = plt.subplots(figsize=(8, 4))\n",
    "sns.countplot(x=df[\"Gender\"], palette=\"tab10\")\n",
    "plt.show()"
   ]
  },
  {
   "cell_type": "code",
   "execution_count": 17,
   "metadata": {},
   "outputs": [
    {
     "name": "stderr",
     "output_type": "stream",
     "text": [
      "/tmp/ipykernel_10444/654932214.py:4: FutureWarning: \n",
      "\n",
      "Passing `palette` without assigning `hue` is deprecated and will be removed in v0.14.0. Assign the `x` variable to `hue` and set `legend=False` for the same effect.\n",
      "\n",
      "  sns.countplot(x=df[\"family_history_with_overweight\"], palette=\"pastel\")\n"
     ]
    },
    {
     "data": {
      "image/png": "[encoded data removed]",
      "text/plain": [
       "<Figure size 800x400 with 1 Axes>"
      ]
     },
     "metadata": {},
     "output_type": "display_data"
    }
   ],
   "source": [
    "# Семейная предрасположенность\n",
    "\n",
    "fig, ax = plt.subplots(figsize=(8, 4))\n",
    "sns.countplot(x=df[\"family_history_with_overweight\"], palette=\"pastel\")\n",
    "plt.show()"
   ]
  },
  {
   "cell_type": "code",
   "execution_count": 18,
   "metadata": {},
   "outputs": [
    {
     "name": "stderr",
     "output_type": "stream",
     "text": [
      "/tmp/ipykernel_10444/3927750134.py:4: FutureWarning: \n",
      "\n",
      "Passing `palette` without assigning `hue` is deprecated and will be removed in v0.14.0. Assign the `x` variable to `hue` and set `legend=False` for the same effect.\n",
      "\n",
      "  sns.countplot(x=df[\"CAEC\"], palette=\"viridis\")\n"
     ]
    },
    {
     "data": {
      "image/png": "[encoded data removed]",
      "text/plain": [
       "<Figure size 800x400 with 1 Axes>"
      ]
     },
     "metadata": {},
     "output_type": "display_data"
    }
   ],
   "source": [
    "# Употребление еды между приемами пищи от 0 до 3\n",
    "\n",
    "fig, ax = plt.subplots(figsize=(8, 4))\n",
    "sns.countplot(x=df[\"CAEC\"], palette=\"viridis\")\n",
    "plt.show()"
   ]
  },
  {
   "cell_type": "code",
   "execution_count": 19,
   "metadata": {},
   "outputs": [
    {
     "data": {
      "image/png": "[encoded data removed]",
      "text/plain": [
       "<Figure size 1200x1200 with 20 Axes>"
      ]
     },
     "metadata": {},
     "output_type": "display_data"
    }
   ],
   "source": [
    "# Гистограммы датасета\n",
    "\n",
    "df.hist(bins=50, figsize=(12,12))\n",
    "plt.show()"
   ]
  },
  {
   "cell_type": "markdown",
   "metadata": {},
   "source": [
    "###  Вывод:\n",
    "\n",
    "В глаза сразу же бросается, что хорошим вариантом для данной компании, будет продвижение своей рекламы и товаров в интернете, их целевая аудитория это в основном молодые люди, у которых есть предрасположенность семейная, которые почти не двигаются и сидят дома по данным FAF, либо пользуются общественным транспортом и не следят за каллорийностью."
   ]
  },
  {
   "cell_type": "markdown",
   "metadata": {},
   "source": [
    "### Разбиение данных на тренировочную и тестовую выборки"
   ]
  },
  {
   "cell_type": "code",
   "execution_count": 21,
   "metadata": {},
   "outputs": [],
   "source": [
    "# Создадим и назначим перменные X и y\n",
    "X,y=df.drop(\"Obese\",axis=1),df[['Obese']]"
   ]
  },
  {
   "cell_type": "markdown",
   "metadata": {},
   "source": [
    "Далее мы разделим данные на тестовую и тренировочную выборку.\n",
    "\n",
    "Думаю, что такое разбиение будет лучше всего для нашего случая, что не даст лишних утечек данных "
   ]
  },
  {
   "cell_type": "code",
   "execution_count": 22,
   "metadata": {},
   "outputs": [
    {
     "data": {
      "text/plain": [
       "((1654, 18), (414, 18), (1654, 1), (414, 1))"
      ]
     },
     "execution_count": 22,
     "metadata": {},
     "output_type": "execute_result"
    }
   ],
   "source": [
    "from sklearn.model_selection import train_test_split\n",
    "\n",
    "# Разделение данных для обучения и тестирования\n",
    "X_train, X_test, y_train, y_test = train_test_split(X, y, test_size = 0.2, random_state = 123)\n",
    "X_train.shape,X_test.shape,y_train.shape,y_test.shape"
   ]
  },
  {
   "cell_type": "markdown",
   "metadata": {},
   "source": [
    "### Обучение моделей"
   ]
  },
  {
   "cell_type": "markdown",
   "metadata": {},
   "source": [
    "#### Модель с константным ответом"
   ]
  },
  {
   "cell_type": "code",
   "execution_count": 23,
   "metadata": {},
   "outputs": [
    {
     "name": "stdout",
     "output_type": "stream",
     "text": [
      "0.5\n"
     ]
    }
   ],
   "source": [
    "from sklearn.dummy import DummyClassifier\n",
    "from sklearn.metrics import roc_auc_score\n",
    "\n",
    "model = DummyClassifier(strategy='most_frequent')\n",
    "\n",
    "model.fit(X_train, y_train)\n",
    "\n",
    "print(roc_auc_score(y_test, model.predict_proba(X_test)[:, 1]))"
   ]
  },
  {
   "cell_type": "markdown",
   "metadata": {},
   "source": [
    "Для любой константной модели метрика ROC AUC будет равно 0.5, несмотря на дисбаланс классов."
   ]
  },
  {
   "cell_type": "markdown",
   "metadata": {},
   "source": [
    "#### Простые модели"
   ]
  },
  {
   "cell_type": "code",
   "execution_count": null,
   "metadata": {},
   "outputs": [],
   "source": [
    "from sklearn.metrics import accuracy_score, confusion_matrix, classification_report\n",
    "from sklearn.naive_bayes import GaussianNB\n",
    "from sklearn.naive_bayes import BernoulliNB\n",
    "from sklearn.linear_model import LogisticRegression\n",
    "from sklearn.neighbors import KNeighborsClassifier\n",
    "from sklearn.tree import DecisionTreeClassifier\n",
    "from sklearn.ensemble import RandomForestClassifier\n",
    "\n",
    "\n",
    "g=GaussianNB()\n",
    "b=BernoulliNB()\n",
    "k=KNeighborsClassifier()\n",
    "l=LogisticRegression()\n",
    "d=DecisionTreeClassifier()\n",
    "r=RandomForestClassifier()\n",
    "\n",
    "g.fit(X_train,y_train)\n",
    "b.fit(X_train,y_train)\n",
    "k.fit(X_train,y_train)\n",
    "l.fit(X_train,y_train)\n",
    "d.fit(X_train,y_train)\n",
    "r.fit(X_train,y_train)\n",
    "\n",
    "predG=g.predict(X_train)\n",
    "predB=b.predict(X_train)\n",
    "predK=k.predict(X_train)\n",
    "predL=l.predict(X_train)\n",
    "predD=d.predict(X_train)\n",
    "predR=r.predict(X_train)\n"
   ]
  },
  {
   "cell_type": "code",
   "execution_count": 26,
   "metadata": {},
   "outputs": [
    {
     "name": "stdout",
     "output_type": "stream",
     "text": [
      "Accuracy Scores:\n",
      "GaussianNB:        0.7551390568319226\n",
      "BernoulliNB:       0.7212817412333736\n",
      "KNeighbours:       0.9177750906892382\n",
      "LogisticReg:       0.7750906892382105\n",
      "DecisionTree:      1.0\n",
      "RandomForest:      1.0\n"
     ]
    }
   ],
   "source": [
    "# Print 'accuracy scores'\n",
    "\n",
    "print('Accuracy Scores:')\n",
    "print(\"GaussianNB:       \", accuracy_score(predG,y_train))\n",
    "print(\"BernoulliNB:      \", accuracy_score(predB,y_train))\n",
    "print(\"KNeighbours:      \", accuracy_score(predK,y_train))\n",
    "print(\"LogisticReg:      \", accuracy_score(predL,y_train))\n",
    "print(\"DecisionTree:     \", accuracy_score(predD,y_train))\n",
    "print(\"RandomForest:     \", accuracy_score(predR,y_train))"
   ]
  },
  {
   "cell_type": "markdown",
   "metadata": {},
   "source": [
    "### Вывод:"
   ]
  },
  {
   "cell_type": "markdown",
   "metadata": {},
   "source": [
    "Самым лучшим вариантом будет выбрать модель RandomForest, потому что она показала наилучший результат.\n",
    "\n",
    "Случайный лес — популярный алгоритм машинного обучения, относящийся к методу обучения с учителем. Его можно использовать как для задач классификации, так и для задач регрессии. \n",
    "\n",
    "Вот некоторые плюсы случайного леса:\n",
    "\n",
    "1)Переобучение: случайный лес — это метод ансамблевого обучения, который работает путем построения множества деревьев решений во время обучения и вывода класса, который является режимом классов (классификация) или средним предсказанием (регрессия) отдельных деревьев. Этот процесс усреднения помогает уменьшить переобучение.\n",
    "\n",
    "2)Важность объекта: случайный лес обеспечивает меру важности объекта, которую можно использовать для определения наиболее важных объектов в наборе данных.\n",
    "\n",
    "3)Надежность: Random Forest — это надежный алгоритм, который может обрабатывать зашумленные данные и выбросы.\n",
    "\n",
    "4)Масштабируемость: Random Forest может обрабатывать большие наборы данных высокой размерности.\n",
    "\n",
    "Минусы:\n",
    "\n",
    "1)Время обучения: обучение случайному лесу может быть медленным, поскольку оно предполагает построение нескольких деревьев решений.\n",
    "\n",
    "2)Интерпретируемость: случайный лес не так интерпретируем, как некоторые другие алгоритмы машинного обучения, такие как логистическая регрессия или деревья решений.\n",
    "\n",
    "3)Использование памяти. Случайный лес может использовать много памяти, особенно при работе с большими наборами данных.\n",
    "\n",
    "Думаю в данном случае мы готовы мирится с минусами и можем смело выбрать данный алгоритм машинного обучения.\n"
   ]
  }
 ],
 "metadata": {
  "kernelspec": {
   "display_name": "Python 3",
   "language": "python",
   "name": "python3"
  },
  "language_info": {
   "codemirror_mode": {
    "name": "ipython",
    "version": 3
   },
   "file_extension": ".py",
   "mimetype": "text/x-python",
   "name": "python",
   "nbconvert_exporter": "python",
   "pygments_lexer": "ipython3",
   "version": "3.10.12"
  }
 },
 "nbformat": 4,
 "nbformat_minor": 2
}
